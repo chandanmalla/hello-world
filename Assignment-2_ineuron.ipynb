{
 "cells": [
  {
   "cell_type": "markdown",
   "metadata": {},
   "source": [
    "# Task 1"
   ]
  },
  {
   "cell_type": "code",
   "execution_count": 3,
   "metadata": {},
   "outputs": [],
   "source": [
    "import numpy as np\n",
    "import pandas as pd\n",
    "import matplotlib.pyplot as plt\n",
    "import seaborn as sns\n",
    "from functools import reduce"
   ]
  },
  {
   "cell_type": "markdown",
   "metadata": {},
   "source": [
    "# 1.1) Factorial with Reduce"
   ]
  },
  {
   "cell_type": "code",
   "execution_count": 4,
   "metadata": {},
   "outputs": [
    {
     "name": "stdout",
     "output_type": "stream",
     "text": [
      "Enter number you want factorial of! 6\n",
      "Factorial of 6 is  720\n"
     ]
    }
   ],
   "source": [
    "def factorialwreduce(x,y):\n",
    "    return x*y\n",
    "\n",
    "x = int(input(\"Enter number you want factorial of! \"))\n",
    "\n",
    "list1 = np.arange(1,x+1)\n",
    "\n",
    "fact = reduce(factorialwreduce,list1)\n",
    "print('Factorial of',x,'is ', fact)"
   ]
  },
  {
   "cell_type": "markdown",
   "metadata": {},
   "source": [
    "# 1.1)Factorial without Reduce"
   ]
  },
  {
   "cell_type": "code",
   "execution_count": 5,
   "metadata": {},
   "outputs": [
    {
     "name": "stdout",
     "output_type": "stream",
     "text": [
      "Enter number you want factorial of! 6\n",
      "Factorial of 6 is  720\n"
     ]
    }
   ],
   "source": [
    "def myreduce(list2):\n",
    "    f = 1\n",
    "    for i in list2:\n",
    "        f = i*f\n",
    "    return f\n",
    "\n",
    "n = int(input(\"Enter number you want factorial of! \"))\n",
    "list2 = np.arange(1,n+1)\n",
    "\n",
    "print('Factorial of',n,'is ', myreduce(list2))"
   ]
  },
  {
   "cell_type": "markdown",
   "metadata": {},
   "source": [
    "# 1.1)Factorial with Lambda function and reduce"
   ]
  },
  {
   "cell_type": "code",
   "execution_count": 7,
   "metadata": {},
   "outputs": [
    {
     "name": "stdout",
     "output_type": "stream",
     "text": [
      "Enter number you want factorial of! 6\n",
      "Factorial of 6 is  720\n"
     ]
    }
   ],
   "source": [
    "p = int(input(\"Enter number you want factorial of! \"))\n",
    "list3 = np.arange(1,p+1)\n",
    "newreduce = reduce(lambda x,y: x*y,list3)\n",
    "print('Factorial of',n,'is ', newreduce)"
   ]
  },
  {
   "cell_type": "markdown",
   "metadata": {},
   "source": [
    "# 1.2)Positive numbers with filter"
   ]
  },
  {
   "cell_type": "code",
   "execution_count": 8,
   "metadata": {},
   "outputs": [
    {
     "name": "stdout",
     "output_type": "stream",
     "text": [
      "Original List:\n",
      " [-10  -9  -8  -7  -6  -5  -4  -3  -2  -1   0   1   2   3   4   5   6   7\n",
      "   8   9]\n",
      "List with positive numbers: [1, 2, 3, 4, 5, 6, 7, 8, 9]\n"
     ]
    }
   ],
   "source": [
    "def positive(x):\n",
    "    if x>0:\n",
    "        return x\n",
    "list4 = np.arange(-10,10)\n",
    "print('Original List:\\n', list4)\n",
    "posit = list(filter(positive,list4))\n",
    "print('List with positive numbers:', posit)"
   ]
  },
  {
   "cell_type": "markdown",
   "metadata": {},
   "source": [
    "# 1.2)Positive numbers without filter"
   ]
  },
  {
   "cell_type": "code",
   "execution_count": 9,
   "metadata": {},
   "outputs": [
    {
     "name": "stdout",
     "output_type": "stream",
     "text": [
      "Original List:\n",
      " [-10  -9  -8  -7  -6  -5  -4  -3  -2  -1   0   1   2   3   4   5   6   7\n",
      "   8   9]\n",
      "List with positive numbers: [1, 2, 3, 4, 5, 6, 7, 8, 9]\n"
     ]
    }
   ],
   "source": [
    "def positive1(templist):\n",
    "    temp = []\n",
    "    for i in templist:\n",
    "        if i>0:\n",
    "            temp.append(i)\n",
    "    return temp\n",
    "\n",
    "list5 = np.arange(-10,10)\n",
    "print('Original List:\\n', list5)\n",
    "\n",
    "print('List with positive numbers:', positive1(list5))        \n",
    "    "
   ]
  },
  {
   "cell_type": "markdown",
   "metadata": {},
   "source": [
    "# 1.2)Positive numbers with lambda and with filter"
   ]
  },
  {
   "cell_type": "code",
   "execution_count": 10,
   "metadata": {},
   "outputs": [
    {
     "name": "stdout",
     "output_type": "stream",
     "text": [
      "Original List:\n",
      " [-10  -9  -8  -7  -6  -5  -4  -3  -2  -1   0   1   2   3   4   5   6   7\n",
      "   8   9]\n",
      "List with positive numbers: [1, 2, 3, 4, 5, 6, 7, 8, 9]\n"
     ]
    }
   ],
   "source": [
    "list6 = np.arange(-10,10)\n",
    "print('Original List:\\n', list6)\n",
    "positive = list(filter(lambda x:x>0,list6))\n",
    "print('List with positive numbers:', positive)  "
   ]
  },
  {
   "cell_type": "markdown",
   "metadata": {},
   "source": [
    "# 2)Write List comprehensions to produce the following Lists"
   ]
  },
  {
   "cell_type": "raw",
   "metadata": {},
   "source": [
    "['A', 'C', 'A', 'D', 'G', 'I', ’L’, ‘ D’]\n",
    "['x', 'xx', 'xxx', 'xxxx', 'y', 'yy', 'yyy', 'yyyy', 'z', 'zz', 'zzz', 'zzzz']\n",
    "['x', 'y', 'z', 'xx', 'yy', 'zz', 'xx', 'yy', 'zz', 'xxxx', 'yyyy', 'zzzz']\n",
    "[[2], [3], [4], [3], [4], [5], [4], [5], [6]]\n",
    "[[2, 3, 4, 5], [3, 4, 5, 6], [4, 5, 6, 7], [5, 6, 7, 8]]\n",
    "[(1, 1), (2, 1), (3, 1), (1, 2), (2, 2), (3, 2), (1, 3), (2, 3), (3, 3)]"
   ]
  },
  {
   "cell_type": "code",
   "execution_count": 11,
   "metadata": {},
   "outputs": [
    {
     "name": "stdout",
     "output_type": "stream",
     "text": [
      "['A', 'C', 'A', 'D', 'G', 'I', 'L', 'D']\n"
     ]
    }
   ],
   "source": [
    "temp = [letter for letter in 'ACADGILD']\n",
    "print(temp)"
   ]
  },
  {
   "cell_type": "code",
   "execution_count": 12,
   "metadata": {},
   "outputs": [
    {
     "name": "stdout",
     "output_type": "stream",
     "text": [
      "['x', 'xx', 'xxx', 'xxxx', 'y', 'yy', 'yyy', 'yyyy', 'z', 'zz', 'zzz', 'zzzz']\n"
     ]
    }
   ],
   "source": [
    "characters = ['x','y','z']\n",
    "count = range(1,5)\n",
    "newlist = [x*y for x in characters for y in count]\n",
    "print(newlist)"
   ]
  },
  {
   "cell_type": "code",
   "execution_count": 13,
   "metadata": {},
   "outputs": [
    {
     "name": "stdout",
     "output_type": "stream",
     "text": [
      "['x', 'y', 'z', 'xx', 'yy', 'zz', 'xx', 'yy', 'zz', 'xxxx', 'yyyy', 'zzzz']\n"
     ]
    }
   ],
   "source": [
    "characters = ['x','y','z']\n",
    "count1 = range(1,3)\n",
    "count2 = range(1,3)\n",
    "newlist = [x*y*z for z in count2 for y in count1 for x in characters]\n",
    "print(newlist)"
   ]
  },
  {
   "cell_type": "code",
   "execution_count": 22,
   "metadata": {},
   "outputs": [
    {
     "name": "stdout",
     "output_type": "stream",
     "text": [
      "[[2], [3], [4], [3], [4], [5], [4], [5], [6]]\n"
     ]
    }
   ],
   "source": [
    "count1 = range(1,4)\n",
    "count2 = range(1,4)\n",
    "newlist = [[x+y] for x in count1 for y in count2 ]\n",
    "print(newlist)"
   ]
  },
  {
   "cell_type": "code",
   "execution_count": 28,
   "metadata": {},
   "outputs": [
    {
     "name": "stdout",
     "output_type": "stream",
     "text": [
      "[[2, 3, 4, 5], [3, 4, 5, 6], [4, 5, 6, 7], [5, 6, 7, 8]]\n"
     ]
    }
   ],
   "source": [
    "count1 = range(1,5)\n",
    "count2 = range(1,5)\n",
    "\n",
    "newlist = [list(map(lambda x:x+y,count1)) for y in count2]\n",
    "print(newlist)\n"
   ]
  },
  {
   "cell_type": "code",
   "execution_count": 16,
   "metadata": {},
   "outputs": [
    {
     "name": "stdout",
     "output_type": "stream",
     "text": [
      "[(1, 1), (2, 1), (3, 1), (1, 2), (2, 2), (3, 2), (1, 3), (2, 3), (3, 3)]\n"
     ]
    }
   ],
   "source": [
    "count1 = range(1,4)\n",
    "count2 = range(1,4)\n",
    "newlist = [(y,x) for x in count1 for y in count2 ]\n",
    "print(newlist)"
   ]
  },
  {
   "cell_type": "code",
   "execution_count": null,
   "metadata": {},
   "outputs": [],
   "source": []
  },
  {
   "cell_type": "code",
   "execution_count": null,
   "metadata": {},
   "outputs": [],
   "source": []
  },
  {
   "cell_type": "markdown",
   "metadata": {},
   "source": [
    "# 3) Longest word"
   ]
  },
  {
   "cell_type": "code",
   "execution_count": 29,
   "metadata": {},
   "outputs": [
    {
     "name": "stdout",
     "output_type": "stream",
     "text": [
      "Longest word in the List is kejriwal\n"
     ]
    }
   ],
   "source": [
    "def longestWord(templist):\n",
    "    p = 0\n",
    "    for i in templist:\n",
    "        if(len(i)>p):\n",
    "            p = len(i)\n",
    "            word = i\n",
    "    return word\n",
    "list6 = ['chandan','hello','loerl','ipsum','world','earth','kejriwal','ambuja']\n",
    "print('Longest word in the List is', longestWord(list6))"
   ]
  },
  {
   "cell_type": "markdown",
   "metadata": {},
   "source": [
    "# Task 2"
   ]
  },
  {
   "cell_type": "markdown",
   "metadata": {},
   "source": [
    "# 1.1)Area of triangle using class inheritance"
   ]
  },
  {
   "cell_type": "code",
   "execution_count": 30,
   "metadata": {},
   "outputs": [
    {
     "name": "stdout",
     "output_type": "stream",
     "text": [
      "Area of triangle with sides 3 4 5 is\n",
      "6.0\n"
     ]
    }
   ],
   "source": [
    "class input_sides:\n",
    "    def __init__(self,a,b,c):\n",
    "        self.a = a\n",
    "        self.b = b\n",
    "        self.c = c\n",
    "        \n",
    "class area1(input_sides):\n",
    "\n",
    "    def area(self):\n",
    "        s = (self.a+self.b+self.c)/2\n",
    "        s = (s*(s-self.a)*(s-self.b)*(s-self.c))**0.5\n",
    "        print(s)\n",
    "p = area1(3,4,5)\n",
    "print('Area of triangle with sides',p.a,p.b,p.c,'is')\n",
    "p.area()"
   ]
  },
  {
   "cell_type": "markdown",
   "metadata": {},
   "source": [
    "# 1.2)Filter Long Words"
   ]
  },
  {
   "cell_type": "code",
   "execution_count": 31,
   "metadata": {},
   "outputs": [
    {
     "name": "stdout",
     "output_type": "stream",
     "text": [
      "Word in the List with character length more than 6 are ['chandan', 'kejriwal']\n"
     ]
    }
   ],
   "source": [
    "def longWord(templist,n):\n",
    "    word = []\n",
    "    for i in templist:\n",
    "        if(len(i)>n):\n",
    "            word.append(i)\n",
    "    return word\n",
    "list6 = ['chandan','hello','loerl','ipsum','world','earth','kejriwal','ambuja']\n",
    "print('Word in the List with character length more than 6 are', longWord(list6,6))"
   ]
  },
  {
   "cell_type": "markdown",
   "metadata": {},
   "source": [
    "# 2.1)Length of words using function"
   ]
  },
  {
   "cell_type": "code",
   "execution_count": 32,
   "metadata": {},
   "outputs": [
    {
     "name": "stdout",
     "output_type": "stream",
     "text": [
      "[7, 5, 5, 5, 5, 5, 8, 6]\n",
      "Original List\n",
      " ['chandan', 'hello', 'loerl', 'ipsum', 'world', 'earth', 'kejriwal', 'ambuja']\n",
      "Length of characters in list are: [7, 5, 5, 5, 5, 5, 8, 6]\n"
     ]
    }
   ],
   "source": [
    "def lengthofword(templist):\n",
    "    p = []\n",
    "    for i in templist:\n",
    "        p.append(len(i))\n",
    "    return p\n",
    "list6 = ['chandan','hello','loerl','ipsum','world','earth','kejriwal','ambuja']\n",
    "o =[]\n",
    "o = [len(i) for i in list6]\n",
    "print(o)\n",
    "print('Original List\\n',list6)\n",
    "print('Length of characters in list are:', lengthofword(list6))"
   ]
  },
  {
   "cell_type": "markdown",
   "metadata": {},
   "source": [
    "# 2.1) Length of words using list comprehension"
   ]
  },
  {
   "cell_type": "code",
   "execution_count": 33,
   "metadata": {},
   "outputs": [
    {
     "name": "stdout",
     "output_type": "stream",
     "text": [
      "Original List\n",
      " ['chandan', 'hello', 'loerl', 'ipsum', 'world', 'earth', 'kejriwal', 'ambuja']\n",
      "Length of characters in list are: [7, 5, 5, 5, 5, 5, 8, 6]\n"
     ]
    }
   ],
   "source": [
    "list6 = ['chandan','hello','loerl','ipsum','world','earth','kejriwal','ambuja']\n",
    "o =[]\n",
    "o = [len(i) for i in list6]\n",
    "print('Original List\\n',list6)\n",
    "print('Length of characters in list are:', o)"
   ]
  },
  {
   "cell_type": "markdown",
   "metadata": {},
   "source": [
    "# 2.2) Vowels in list"
   ]
  },
  {
   "cell_type": "code",
   "execution_count": 35,
   "metadata": {},
   "outputs": [
    {
     "name": "stdout",
     "output_type": "stream",
     "text": [
      "\n",
      "Original List ['c', 'h', 'l', 'i', 'w', 'e', 'k', 'a', 'o', 'u']\n",
      "Which character value is vowels: [False, False, False, True, False, True, False, True, True, True]\n"
     ]
    }
   ],
   "source": [
    "list6 = ['c','h','l','i','w','e','k','a','o','u']\n",
    "#temp = list(filter(lambda x:(x=='a')|(x=='e')|(x=='i')|(x=='o')|(x=='u'),list6))\n",
    "#print('Vowels in list',list6,'are', temp)\n",
    "\n",
    "def isvowel(templist):\n",
    "    t = []\n",
    "    for x in templist:\n",
    "        if ((x=='a')|(x=='e')|(x=='i')|(x=='o')|(x=='u')):\n",
    "            t.append(True)\n",
    "        else:\n",
    "            t.append(False)\n",
    "    return t\n",
    "\n",
    "print('\\nOriginal List', list6)\n",
    "print('Which character value is vowels:',isvowel(list6))"
   ]
  },
  {
   "cell_type": "code",
   "execution_count": null,
   "metadata": {},
   "outputs": [],
   "source": []
  }
 ],
 "metadata": {
  "kernelspec": {
   "display_name": "Python 3",
   "language": "python",
   "name": "python3"
  },
  "language_info": {
   "codemirror_mode": {
    "name": "ipython",
    "version": 3
   },
   "file_extension": ".py",
   "mimetype": "text/x-python",
   "name": "python",
   "nbconvert_exporter": "python",
   "pygments_lexer": "ipython3",
   "version": "3.7.4"
  }
 },
 "nbformat": 4,
 "nbformat_minor": 2
}
