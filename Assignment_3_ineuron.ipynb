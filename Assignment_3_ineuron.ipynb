{
 "cells": [
  {
   "cell_type": "code",
   "execution_count": 1,
   "metadata": {},
   "outputs": [],
   "source": [
    "import numpy as np"
   ]
  },
  {
   "cell_type": "markdown",
   "metadata": {},
   "source": [
    "# Task 1"
   ]
  },
  {
   "cell_type": "markdown",
   "metadata": {},
   "source": [
    "Q1 Write a function to compute 5/0 and use try/except to catch the exceptions."
   ]
  },
  {
   "cell_type": "code",
   "execution_count": 42,
   "metadata": {},
   "outputs": [],
   "source": [
    "def divbyzero(numerator,denominator):\n",
    "    try:\n",
    "        result = numerator / denominator\n",
    "    except(ZeroDivisionError):\n",
    "        return ZeroDivisionError\n",
    "    print('Division result = ')\n",
    "    return  result\n",
    "    \n",
    "    \n"
   ]
  },
  {
   "cell_type": "code",
   "execution_count": 43,
   "metadata": {
    "scrolled": true
   },
   "outputs": [
    {
     "data": {
      "text/plain": [
       "ZeroDivisionError"
      ]
     },
     "execution_count": 43,
     "metadata": {},
     "output_type": "execute_result"
    }
   ],
   "source": [
    "divbyzero(100,0) \n"
   ]
  },
  {
   "cell_type": "markdown",
   "metadata": {},
   "source": [
    "Q2) Implement a Python program to generate all sentences where subject is in [\"Americans\",\n",
    "\"Indians\"] and verb is in [\"Play\", \"watch\"] and the object is in [\"Baseball\",\"cricket\"]."
   ]
  },
  {
   "cell_type": "code",
   "execution_count": 39,
   "metadata": {},
   "outputs": [],
   "source": [
    "subjects = [\"Americans\", \"Indians\"]\n",
    "verb =  [\"Play\", \"watch\"] \n",
    "objects = [\"Baseball\",\"cricket\"]            "
   ]
  },
  {
   "cell_type": "code",
   "execution_count": 40,
   "metadata": {},
   "outputs": [
    {
     "name": "stdout",
     "output_type": "stream",
     "text": [
      "Americans Play Baseball\n",
      "Americans Play cricket\n",
      "Americans watch Baseball\n",
      "Americans watch cricket\n",
      "Indians Play Baseball\n",
      "Indians Play cricket\n",
      "Indians watch Baseball\n",
      "Indians watch cricket\n"
     ]
    }
   ],
   "source": [
    "for i in subjects:\n",
    "    for j in verb:\n",
    "        for k in objects:\n",
    "            print(i + ' ' + j + ' ' + k)"
   ]
  },
  {
   "cell_type": "markdown",
   "metadata": {},
   "source": [
    "# Task 2"
   ]
  },
  {
   "cell_type": "markdown",
   "metadata": {},
   "source": [
    "Q2)Generate Alexandre-Theophile Vandermonde Matrix"
   ]
  },
  {
   "cell_type": "code",
   "execution_count": 95,
   "metadata": {},
   "outputs": [],
   "source": [
    "def vandergenerator(input,increasing,n):\n",
    "    if increasing:\n",
    "        new = np.array([i**j for i in input for j in range(n) ]).reshape(input.shape[0],n)\n",
    "    else:\n",
    "         new = np.array([i**j for i in input for j in range(n-1,-1,-1)]).reshape(input.shape[0],n)\n",
    "    return new        \n",
    "    "
   ]
  },
  {
   "cell_type": "code",
   "execution_count": 97,
   "metadata": {},
   "outputs": [
    {
     "name": "stdout",
     "output_type": "stream",
     "text": [
      "Input array: [2 4 6 8]\n",
      "\n",
      "Number of Columns required: 4\n",
      "\n",
      "Generating Output Matrix with Increasing set as False\n",
      "[[  16    8    4    2    1]\n",
      " [ 256   64   16    4    1]\n",
      " [1296  216   36    6    1]\n",
      " [4096  512   64    8    1]]\n",
      "\n",
      "\n",
      "*************************************************************************************\n",
      "\n",
      "\n",
      "Input array: [2 4 6 8]\n",
      "\n",
      "Number of Columns required: 5\n",
      "\n",
      "Generating Output Matrix with Increasing set as True\n",
      "[[   1    2    4    8   16]\n",
      " [   1    4   16   64  256]\n",
      " [   1    6   36  216 1296]\n",
      " [   1    8   64  512 4096]]\n"
     ]
    }
   ],
   "source": [
    "input = np.array([2,4,6,8])\n",
    "\n",
    "print('Input array:',input)\n",
    "print('\\nNumber of Columns required:',4)\n",
    "print('\\nGenerating Output Matrix with Increasing set as',False)\n",
    "print(vandergenerator(input,False,5))\n",
    "\n",
    "print(\"\\n\\n*************************************************************************************\\n\\n\")\n",
    "\n",
    "print('Input array:',input)\n",
    "print('\\nNumber of Columns required:',5)\n",
    "print('\\nGenerating Output Matrix with Increasing set as',True)\n",
    "print(vandergenerator(input,True,5))"
   ]
  },
  {
   "cell_type": "code",
   "execution_count": null,
   "metadata": {},
   "outputs": [],
   "source": []
  },
  {
   "cell_type": "code",
   "execution_count": null,
   "metadata": {},
   "outputs": [],
   "source": []
  }
 ],
 "metadata": {
  "kernelspec": {
   "display_name": "Python 3",
   "language": "python",
   "name": "python3"
  },
  "language_info": {
   "codemirror_mode": {
    "name": "ipython",
    "version": 3
   },
   "file_extension": ".py",
   "mimetype": "text/x-python",
   "name": "python",
   "nbconvert_exporter": "python",
   "pygments_lexer": "ipython3",
   "version": "3.7.4"
  }
 },
 "nbformat": 4,
 "nbformat_minor": 2
}
